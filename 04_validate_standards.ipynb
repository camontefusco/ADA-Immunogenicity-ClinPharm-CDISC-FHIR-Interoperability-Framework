{
 "cells": [
  {
   "cell_type": "markdown",
   "id": "656597c5",
   "metadata": {},
   "source": [
    "# 04 · Validate Standards"
   ]
  },
  {
   "cell_type": "code",
   "execution_count": 6,
   "id": "86643a72",
   "metadata": {},
   "outputs": [
    {
     "name": "stdout",
     "output_type": "stream",
     "text": [
      "Wrote validation summary → /Users/cmontefusco/Coding projects/dmpk-standards-interoperability/validations/summary.md\n"
     ]
    }
   ],
   "source": [
    "from pathlib import Path\n",
    "import pandas as pd, json\n",
    "\n",
    "adam = Path.cwd().parents[0] / \"cdisc\" / \"adam_like\" / \"adimmun.csv\"\n",
    "fhir = Path.cwd().parents[0] / \"interoperability\" / \"fhir_examples\"\n",
    "out_md = Path.cwd().parents[0] / \"validations\" / \"summary.md\"\n",
    "failures = []\n",
    "\n",
    "req_cols = [\"USUBJID\",\"VISIT\",\"METHOD\",\"PARAMCD\",\"ADASTAT\",\"CONC_WK52_NGM\"]\n",
    "ad = pd.read_csv(adam)\n",
    "missing = [c for c in req_cols if c not in ad.columns]\n",
    "if missing: failures.append(f\"ADaM missing columns: {missing}\")\n",
    "if (ad[\"CONC_WK52_NGM\"] < 0).any(): failures.append(\"Negative concentrations present.\")\n",
    "if not set(ad[\"METHOD\"]).issubset({\"Standard\",\"PandA\"}): failures.append(\"Unclassified METHOD values found.\")\n",
    "\n",
    "jsons = list(fhir.glob(\"*.json\"))\n",
    "if not jsons: failures.append(\"No FHIR Observation JSON files found.\")\n",
    "\n",
    "with open(out_md, \"w\") as f:\n",
    "    if failures:\n",
    "        f.write(\"## Validation Summary: FAIL ❌\\n\\n\")\n",
    "        for e in failures: f.write(f\"- {e}\\n\")\n",
    "    else:\n",
    "        f.write(\"## Validation Summary: PASS ✅\\n\\n- ADaM-like dataset structure valid\\n- FHIR Observations present and minimally valid\\n\")\n",
    "print(\"Wrote validation summary →\", out_md)"
   ]
  }
 ],
 "metadata": {
  "kernelspec": {
   "display_name": "Python [conda env:base] *",
   "language": "python",
   "name": "conda-base-py"
  },
  "language_info": {
   "codemirror_mode": {
    "name": "ipython",
    "version": 3
   },
   "file_extension": ".py",
   "mimetype": "text/x-python",
   "name": "python",
   "nbconvert_exporter": "python",
   "pygments_lexer": "ipython3",
   "version": "3.12.2"
  }
 },
 "nbformat": 4,
 "nbformat_minor": 5
}
