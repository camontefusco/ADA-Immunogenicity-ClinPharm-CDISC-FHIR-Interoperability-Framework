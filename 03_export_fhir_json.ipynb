{
 "cells": [
  {
   "cell_type": "markdown",
   "id": "1cfdd8a5",
   "metadata": {},
   "source": [
    "# 03 · Export FHIR Observation JSON (one per ADA test) + link PK via derivedFrom"
   ]
  },
  {
   "cell_type": "code",
   "execution_count": 9,
   "id": "af5e545f",
   "metadata": {},
   "outputs": [
    {
     "name": "stdout",
     "output_type": "stream",
     "text": [
      "Wrote FHIR Observations: 12720 → /Users/cmontefusco/Coding projects/dmpk-standards-interoperability/interoperability/fhir_examples\n"
     ]
    }
   ],
   "source": [
    "from pathlib import Path\n",
    "import pandas as pd, yaml, json\n",
    "\n",
    "CFG = yaml.safe_load(open(str(Path.cwd().parents[0] / \"config.yml\")))\n",
    "df = pd.read_csv(Path.cwd().parents[0] / \"cdisc\" / \"adam_like\" / \"adimmun.csv\")\n",
    "\n",
    "loinc = CFG[\"fhir\"][\"loinc_ada_qual\"]\n",
    "pos = CFG[\"fhir\"][\"interpretation_codes\"][\"positive\"]\n",
    "neg = CFG[\"fhir\"][\"interpretation_codes\"][\"negative\"]\n",
    "\n",
    "outdir = Path.cwd().parents[0] / \"interoperability\" / \"fhir_examples\"\n",
    "outdir.mkdir(parents=True, exist_ok=True)\n",
    "\n",
    "def obs_id(r):\n",
    "    return f\"ADA_{r.USUBJID}_W{int(r.VISIT)}_{r.METHOD}\"\n",
    "\n",
    "def pk_obs_id(r):\n",
    "    return f\"PK_{r.USUBJID}_W{int(r.VISIT)}\"\n",
    "\n",
    "def to_obs(r):\n",
    "    value_bool = True if r.ADASTAT == \"POS\" else False\n",
    "    interp = pos if value_bool else neg\n",
    "    return {\n",
    "      \"resourceType\": \"Observation\",\n",
    "      \"id\": obs_id(r),\n",
    "      \"status\": \"final\",\n",
    "      \"code\": {\"coding\": [{\n",
    "        \"system\": \"http://loinc.org\", \"code\": loinc, \"display\": \"Anti-drug antibody qualitative\"\n",
    "      }]},\n",
    "      \"subject\": {\"reference\": f\"Patient/{r.USUBJID}\"},\n",
    "      \"effectiveDateTime\": \"2025-01-01\",\n",
    "      \"valueBoolean\": value_bool,\n",
    "      \"method\": {\"text\": f\"{r.METHOD} ADA Assay\"},\n",
    "      \"interpretation\": [{\n",
    "        \"coding\": [{\n",
    "          \"system\": \"http://terminology.hl7.org/CodeSystem/v3-ObservationInterpretation\",\n",
    "          \"code\": interp\n",
    "        }]\n",
    "      }],\n",
    "      \"derivedFrom\": [{\"reference\": f\"Observation/{pk_obs_id(r)}\"}],\n",
    "      \"extension\": [{\n",
    "        \"url\": \"http://example.org/fhir/StructureDefinition/drug-tolerance-flag\",\n",
    "        \"valueString\": \"PASS\"\n",
    "      }]\n",
    "    }\n",
    "\n",
    "count = 0\n",
    "for _, r in df.iterrows():\n",
    "    o = to_obs(r)\n",
    "    with open(outdir / f\"{o['id']}.json\", \"w\") as f:\n",
    "        json.dump(o, f, indent=2)\n",
    "    count += 1\n",
    "print(\"Wrote FHIR Observations:\", count, \"→\", outdir)"
   ]
  }
 ],
 "metadata": {
  "kernelspec": {
   "display_name": "Python [conda env:base] *",
   "language": "python",
   "name": "conda-base-py"
  },
  "language_info": {
   "codemirror_mode": {
    "name": "ipython",
    "version": 3
   },
   "file_extension": ".py",
   "mimetype": "text/x-python",
   "name": "python",
   "nbconvert_exporter": "python",
   "pygments_lexer": "ipython3",
   "version": "3.12.2"
  }
 },
 "nbformat": 4,
 "nbformat_minor": 5
}
