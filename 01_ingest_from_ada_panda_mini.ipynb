{
 "cells": [
  {
   "cell_type": "markdown",
   "id": "b7339c2d",
   "metadata": {},
   "source": [
    "# 01 · Ingest from ada-panda-mini"
   ]
  },
  {
   "cell_type": "code",
   "execution_count": 14,
   "id": "5861445b-9935-4a42-8162-9bc188af4b57",
   "metadata": {},
   "outputs": [
    {
     "name": "stdout",
     "output_type": "stream",
     "text": [
      "Looking for: /Users/cmontefusco/Coding projects/ada-panda-mini/reports/tlgs.parquet\n",
      "Exists: True\n"
     ]
    }
   ],
   "source": [
    "from pathlib import Path\n",
    "import pandas as pd, yaml\n",
    "\n",
    "# Use repo root, not parents[1]\n",
    "CFG = yaml.safe_load(open(str(Path.cwd().parents[0] / \"config.yml\")))\n",
    "SRC = Path(CFG[\"upstream_reports_path\"])\n",
    "assert SRC.exists(), f\"Upstream path not found: {SRC}\"\n",
    "\n",
    "tlgs_pq = SRC / \"tlgs.parquet\"\n",
    "bench_pq = SRC / \"benchmarks.parquet\"\n",
    "\n",
    "print(\"Looking for:\", tlgs_pq)\n",
    "print(\"Exists:\", tlgs_pq.exists())"
   ]
  },
  {
   "cell_type": "code",
   "execution_count": 16,
   "id": "96d2b888-653a-4719-acb3-98e5134a251b",
   "metadata": {},
   "outputs": [
    {
     "name": "stdout",
     "output_type": "stream",
     "text": [
      "TLGs shape: (6360, 8)\n",
      "TLGs columns: ['id', 'time_days', 'visit_week', 'conc_ngmL_true', 'conc_reported_ngmL', 'ADA_pos', 'ADA_std_detected', 'ADA_pan_detected']\n"
     ]
    }
   ],
   "source": [
    "import pandas as pd\n",
    "\n",
    "tlgs = pd.read_parquet(tlgs_pq)\n",
    "print(\"TLGs shape:\", tlgs.shape)\n",
    "print(\"TLGs columns:\", list(tlgs.columns))\n",
    "\n",
    "needed = {\"id\",\"visit_week\",\"ADA_pos\",\"ADA_std_detected\",\"ADA_pan_detected\",\"conc_reported_ngmL\"}\n",
    "missing = needed - set(tlgs.columns)\n",
    "if missing:\n",
    "    raise RuntimeError(f\"tlgs.parquet missing required columns: {sorted(missing)}\")"
   ]
  },
  {
   "cell_type": "code",
   "execution_count": 18,
   "id": "78cfd875",
   "metadata": {},
   "outputs": [
    {
     "name": "stdout",
     "output_type": "stream",
     "text": [
      "TLGs: (6360, 8) | Benchmarks: (4, 5)\n",
      "Wrote: /Users/cmontefusco/Coding projects/dmpk-standards-interoperability/intermediate/ada_harmonized.csv | shape: (12720, 6)\n"
     ]
    }
   ],
   "source": [
    "from pathlib import Path\n",
    "import pandas as pd, yaml\n",
    "\n",
    "CFG = yaml.safe_load(open(str(Path.cwd().parents[0] / \"config.yml\")))\n",
    "SRC = Path(CFG[\"upstream_reports_path\"])\n",
    "assert SRC.exists(), f\"Upstream path not found: {SRC}\"\n",
    "\n",
    "tlgs = pd.read_parquet(SRC / \"tlgs.parquet\") if (SRC / \"tlgs.parquet\").exists() else pd.DataFrame()\n",
    "bench = pd.read_parquet(SRC / \"benchmarks.parquet\") if (SRC / \"benchmarks.parquet\").exists() else pd.DataFrame()\n",
    "\n",
    "print(\"TLGs:\", tlgs.shape, \"| Benchmarks:\", bench.shape)\n",
    "\n",
    "cols = [c for c in [\"id\",\"visit_week\",\"ADA_pos\",\"ADA_std_detected\",\"ADA_pan_detected\",\"conc_reported_ngmL\"] if c in tlgs.columns]\n",
    "ada = tlgs[cols].copy() if cols else pd.DataFrame()\n",
    "if not ada.empty:\n",
    "    ada.rename(columns={\"id\":\"USUBJID\",\"visit_week\":\"VISIT\",\"conc_reported_ngmL\":\"CONC_NGM\"}, inplace=True)\n",
    "    long = ada.melt(id_vars=[\"USUBJID\",\"VISIT\",\"CONC_NGM\",\"ADA_pos\"],\n",
    "                    value_vars=[c for c in [\"ADA_std_detected\",\"ADA_pan_detected\"] if c in ada.columns],\n",
    "                    var_name=\"METHOD_FLAG\", value_name=\"ADA_DETECTED\")\n",
    "    long[\"METHOD\"] = long[\"METHOD_FLAG\"].map({\"ADA_std_detected\":\"Standard\",\"ADA_pan_detected\":\"PandA\"})\n",
    "    long.drop(columns=[\"METHOD_FLAG\"], inplace=True)\n",
    "else:\n",
    "    long = pd.DataFrame()\n",
    "\n",
    "out = Path.cwd().parents[0] / \"intermediate\" / \"ada_harmonized.csv\"\n",
    "out.parent.mkdir(parents=True, exist_ok=True)\n",
    "long.to_csv(out, index=False)\n",
    "print(\"Wrote:\", out, \"| shape:\", long.shape)"
   ]
  }
 ],
 "metadata": {
  "kernelspec": {
   "display_name": "Python [conda env:base] *",
   "language": "python",
   "name": "conda-base-py"
  },
  "language_info": {
   "codemirror_mode": {
    "name": "ipython",
    "version": 3
   },
   "file_extension": ".py",
   "mimetype": "text/x-python",
   "name": "python",
   "nbconvert_exporter": "python",
   "pygments_lexer": "ipython3",
   "version": "3.12.2"
  }
 },
 "nbformat": 4,
 "nbformat_minor": 5
}
