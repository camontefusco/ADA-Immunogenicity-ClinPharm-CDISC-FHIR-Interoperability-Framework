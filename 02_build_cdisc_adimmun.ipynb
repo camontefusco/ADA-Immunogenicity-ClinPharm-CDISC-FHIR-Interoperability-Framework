{
 "cells": [
  {
   "cell_type": "markdown",
   "id": "79aecf41",
   "metadata": {},
   "source": [
    "# 02 · Build CDISC ADaM-like (ADIMMN)"
   ]
  },
  {
   "cell_type": "code",
   "execution_count": 10,
   "id": "788f2e57",
   "metadata": {},
   "outputs": [
    {
     "name": "stdout",
     "output_type": "stream",
     "text": [
      "Wrote: /Users/cmontefusco/Coding projects/dmpk-standards-interoperability/cdisc/adam_like/adimmun.csv | shape: (12720, 6)\n"
     ]
    }
   ],
   "source": [
    "from pathlib import Path\n",
    "import pandas as pd\n",
    "\n",
    "harm = Path.cwd().parents[0] / \"intermediate\" / \"ada_harmonized.csv\"\n",
    "df = pd.read_csv(harm)\n",
    "\n",
    "df[\"PARAMCD\"] = \"ADAQUAL\"\n",
    "df[\"ADASTAT\"] = df[\"ADA_DETECTED\"].map({1:\"POS\",0:\"NEG\"})\n",
    "df[\"CONC_WK52_NGM\"] = df[\"CONC_NGM\"]\n",
    "\n",
    "cols = [\"USUBJID\",\"VISIT\",\"METHOD\",\"PARAMCD\",\"ADASTAT\",\"CONC_WK52_NGM\"]\n",
    "adimmun = df[cols].copy()\n",
    "\n",
    "out = Path.cwd().parents[0] / \"cdisc\" / \"adam_like\" / \"adimmun.csv\"\n",
    "out.parent.mkdir(parents=True, exist_ok=True)\n",
    "adimmun.to_csv(out, index=False)\n",
    "print(\"Wrote:\", out, \"| shape:\", adimmun.shape)"
   ]
  },
  {
   "cell_type": "code",
   "execution_count": null,
   "id": "618b88df-13ae-44bc-892a-8dd37efd84d4",
   "metadata": {},
   "outputs": [],
   "source": []
  }
 ],
 "metadata": {
  "kernelspec": {
   "display_name": "Python [conda env:base] *",
   "language": "python",
   "name": "conda-base-py"
  },
  "language_info": {
   "codemirror_mode": {
    "name": "ipython",
    "version": 3
   },
   "file_extension": ".py",
   "mimetype": "text/x-python",
   "name": "python",
   "nbconvert_exporter": "python",
   "pygments_lexer": "ipython3",
   "version": "3.12.2"
  }
 },
 "nbformat": 4,
 "nbformat_minor": 5
}
